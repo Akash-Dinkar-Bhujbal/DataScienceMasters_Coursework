{
  "cells": [
    {
      "cell_type": "markdown",
      "metadata": {
        "id": "view-in-github",
        "colab_type": "text"
      },
      "source": [
        "<a href=\"https://colab.research.google.com/github/Akash-Dinkar-Bhujbal/DataScienceMasters_Coursework/blob/master/Week%205%20Python-%20Files%20And%20Exceptional%20Handling%20And%20Memory%20Management/ExceptionHandlingAssignment-1.ipynb\" target=\"_parent\"><img src=\"https://colab.research.google.com/assets/colab-badge.svg\" alt=\"Open In Colab\"/></a>"
      ]
    },
    {
      "cell_type": "markdown",
      "metadata": {
        "id": "5RemPHQAsAnA"
      },
      "source": [
        "# Q1. What is an Exception in python? Write the differnce between Exception and Syntax errors.\n",
        "\n",
        "**Ans.:**\n",
        "\n",
        "**Exception in Python:**\n",
        "\n",
        "  An exception is an event that occurs during the execution of a program that disrupts the normal flow of instructions.\n",
        "  In Python, exceptions are raised when an error or unexpected situation occurs during the execution of a program.\n",
        "\n",
        "**Difference between Exception and Syntax errors:**\n",
        "\n",
        "  Syntax Error: It occurs when there is a mistake in the syntax of the code. The code cannot be executed until the syntax error is corrected.\n",
        "\n",
        "  \n",
        "  Exception: It occurs during the execution of the code when a specific error condition is encountered. Exceptions can be handled using try-except blocks."
      ]
    },
    {
      "cell_type": "markdown",
      "metadata": {
        "id": "n5wU08gfsAnC"
      },
      "source": [
        "# Q2. What happen when exception is not handled? Explain with example.\n",
        "\n",
        "**Ans.:**\n",
        "\n",
        "If an exception is not handled, it propagates up the call stack, and the program terminates with an error message. Here's an example:\n",
        "\n",
        "In this example, a ValueError is raised, but there is no handling code. As a result, the program terminates with an error message."
      ]
    },
    {
      "cell_type": "code",
      "execution_count": null,
      "metadata": {
        "id": "qnEv8MmWsAnC",
        "outputId": "d4872af3-b975-4871-9835-8277d062decc"
      },
      "outputs": [
        {
          "ename": "IndentationError",
          "evalue": "unexpected indent (1156108662.py, line 3)",
          "output_type": "error",
          "traceback": [
            "\u001b[1;36m  Cell \u001b[1;32mIn[2], line 3\u001b[1;36m\u001b[0m\n\u001b[1;33m    num = int(\"abc\")  # This raises a ValueError\u001b[0m\n\u001b[1;37m    ^\u001b[0m\n\u001b[1;31mIndentationError\u001b[0m\u001b[1;31m:\u001b[0m unexpected indent\n"
          ]
        }
      ],
      "source": [
        "# Example without handling the exception\n",
        "# try:\n",
        "    num = int(\"abc\")  # This raises a ValueError\n",
        "# except:\n",
        "#     pass  # No handling code\n",
        "\n",
        "# The program will terminate with an error message like:\n",
        "# ValueError: invalid literal for int() with base 10: 'abc'"
      ]
    },
    {
      "cell_type": "markdown",
      "metadata": {
        "id": "bkr3V4vJsAnD"
      },
      "source": [
        "# Q3. What Python statements are used to catch and handle exception? Explain with example.\n",
        "\n",
        "**Ans.:**\n",
        "\n",
        "The `try`, `except`, `else`, and `finally` statements are used to catch and handle exceptions.\n",
        "\n",
        "In this example, the `try` block contains code that may raise an exception. If a `ZeroDivisionError` occurs, the corresponding `except` block is executed. If no exception occurs, the `else` block is executed. The `finally` block is always executed.\n"
      ]
    },
    {
      "cell_type": "code",
      "execution_count": null,
      "metadata": {
        "id": "psEYyN4ssAnD",
        "outputId": "5ca15892-b875-49e6-eced-ad75f9c4a058"
      },
      "outputs": [
        {
          "name": "stdout",
          "output_type": "stream",
          "text": [
            "Cannot divide by zero.\n",
            "Finally block.\n"
          ]
        }
      ],
      "source": [
        "try:\n",
        "    # Code that may raise an exception\n",
        "    result = 10 / 0\n",
        "except ZeroDivisionError:\n",
        "    # Handling a specific exception\n",
        "    print(\"Cannot divide by zero.\")\n",
        "else:\n",
        "    # Executed if no exception is raised\n",
        "    print(\"Division successful.\")\n",
        "finally:\n",
        "    # Always executed, whether an exception occurs or not\n",
        "    print(\"Finally block.\")"
      ]
    },
    {
      "cell_type": "markdown",
      "metadata": {
        "id": "v6sxjYnAsAnE"
      },
      "source": [
        "# Q4. Explain with an example:\n",
        "    \n",
        "   a. `try` and `else`\n",
        "\n",
        "   b. `finally`\n",
        "   \n",
        "   c. `raise`\n"
      ]
    },
    {
      "cell_type": "markdown",
      "metadata": {
        "id": "jYUZ9Ad8sAnE"
      },
      "source": [
        "**a. try and else:**"
      ]
    },
    {
      "cell_type": "code",
      "execution_count": null,
      "metadata": {
        "id": "6BnJHaXFsAnE",
        "outputId": "c4607832-8e24-4e23-c0b6-0175959902ce"
      },
      "outputs": [
        {
          "name": "stdout",
          "output_type": "stream",
          "text": [
            "Invalid input. Please enter a valid number.\n"
          ]
        }
      ],
      "source": [
        "try:\n",
        "    num = int(input(\"Enter a number: \"))\n",
        "except ValueError:\n",
        "    print(\"Invalid input. Please enter a valid number.\")\n",
        "else:\n",
        "    print(f\"You entered: {num}\")\n"
      ]
    },
    {
      "cell_type": "markdown",
      "metadata": {
        "id": "WL-x2afqsAnE"
      },
      "source": [
        "**b. finally:**"
      ]
    },
    {
      "cell_type": "code",
      "execution_count": null,
      "metadata": {
        "id": "shwZ7SAWsAnE"
      },
      "outputs": [],
      "source": [
        "try:\n",
        "    file = open(\"example.txt\", \"r\")\n",
        "    # Code to read or manipulate the file\n",
        "finally:\n",
        "    file.close()  # Ensure that the file is closed, even if an exception occurs"
      ]
    },
    {
      "cell_type": "markdown",
      "metadata": {
        "id": "IsSZcB9rsAnE"
      },
      "source": [
        "**c. raise:**"
      ]
    },
    {
      "cell_type": "code",
      "execution_count": null,
      "metadata": {
        "id": "8x8mFBiusAnE",
        "outputId": "d05caca7-a2b9-47bc-c33e-6cc23de12275"
      },
      "outputs": [
        {
          "name": "stdout",
          "output_type": "stream",
          "text": [
            "Error: Age cannot be negative.\n"
          ]
        }
      ],
      "source": [
        "try:\n",
        "    age = int(input(\"Enter your age: \"))\n",
        "    if age < 0:\n",
        "        raise ValueError(\"Age cannot be negative.\")\n",
        "except ValueError as e:\n",
        "    print(f\"Error: {e}\")\n"
      ]
    },
    {
      "cell_type": "markdown",
      "metadata": {
        "id": "PnDkdMK5sAnE"
      },
      "source": [
        "# Q5. What are custom Exceptions in Python? Why  do we need Custom Exceptions? Explain with an example.\n",
        "\n",
        "**Ans.:**\n",
        "\n",
        "Custom Exceptions:\n",
        "\n",
        "  Custom exceptions are user-defined exceptions that extend the base Exception class.\n",
        "  They are useful when you want to raise and handle specific exceptions based on the requirements of our program.\n",
        "\n",
        "Why we need Custom Exceptions:\n",
        "\n",
        "  Custom exceptions allow us to create more meaningful and specific exceptions for your application.\n",
        "  They help in making the code more readable and maintainable by providing clear information about the nature of the error.\n",
        "\n",
        "Example:\n",
        "\n",
        "  In this example, NegativeValueError is a custom exception. If the user enters a negative age, the custom exception is raised and caught in the except block."
      ]
    },
    {
      "cell_type": "code",
      "execution_count": null,
      "metadata": {
        "id": "7zk2ZVgSsAnF",
        "outputId": "3dc0642b-1f5d-4136-d463-2802e595b3b2"
      },
      "outputs": [
        {
          "name": "stdout",
          "output_type": "stream",
          "text": [
            "Error: Value cannot be negative.\n"
          ]
        }
      ],
      "source": [
        "class NegativeValueError(Exception):\n",
        "    def __init__(self, message=\"Value cannot be negative.\"):\n",
        "        self.message = message\n",
        "        super().__init__(self.message)\n",
        "\n",
        "try:\n",
        "    age = int(input(\"Enter your age: \"))\n",
        "    if age < 0:\n",
        "        raise NegativeValueError()\n",
        "except NegativeValueError as e:\n",
        "    print(f\"Error: {e}\")"
      ]
    },
    {
      "cell_type": "markdown",
      "metadata": {
        "id": "cEu-f1Y_sAnF"
      },
      "source": [
        "# Q6. Create custom exception class. Use this class to handle an exception.\n",
        "\n",
        "**Ans.:**\n",
        "\n",
        "Custom Exception Class:\n",
        "\n",
        "  In this example, CustomError is a custom exception class. When the raise statement is encountered, an instance of this custom exception is created"
      ]
    },
    {
      "cell_type": "code",
      "execution_count": null,
      "metadata": {
        "id": "luQ063GGsAnF",
        "outputId": "34459e90-2b75-441b-f3a6-ab44914042fd"
      },
      "outputs": [
        {
          "name": "stdout",
          "output_type": "stream",
          "text": [
            "Custom Exception: This is a custom exception.\n"
          ]
        }
      ],
      "source": [
        "class CustomError(Exception):\n",
        "    def __init__(self, message=\"This is a custom error.\"):\n",
        "        self.message = message\n",
        "        super().__init__(self.message)\n",
        "\n",
        "try:\n",
        "    # Code that may raise the custom exception\n",
        "    raise CustomError(\"This is a custom exception.\")\n",
        "except CustomError as e:\n",
        "    print(f\"Custom Exception: {e}\")"
      ]
    }
  ],
  "metadata": {
    "kernelspec": {
      "display_name": "Python 3",
      "language": "python",
      "name": "python3"
    },
    "language_info": {
      "codemirror_mode": {
        "name": "ipython",
        "version": 3
      },
      "file_extension": ".py",
      "mimetype": "text/x-python",
      "name": "python",
      "nbconvert_exporter": "python",
      "pygments_lexer": "ipython3",
      "version": "3.10.0rc2"
    },
    "colab": {
      "provenance": [],
      "include_colab_link": true
    }
  },
  "nbformat": 4,
  "nbformat_minor": 0
}