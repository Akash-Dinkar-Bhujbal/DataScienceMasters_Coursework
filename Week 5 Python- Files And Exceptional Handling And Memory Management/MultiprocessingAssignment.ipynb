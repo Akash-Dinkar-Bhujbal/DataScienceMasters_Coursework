{
  "cells": [
    {
      "cell_type": "markdown",
      "metadata": {
        "id": "view-in-github",
        "colab_type": "text"
      },
      "source": [
        "<a href=\"https://colab.research.google.com/github/Akash-Dinkar-Bhujbal/DataScienceMasters_Coursework/blob/master/Week%205%20Python-%20Files%20And%20Exceptional%20Handling%20And%20Memory%20Management/MultiprocessingAssignment.ipynb\" target=\"_parent\"><img src=\"https://colab.research.google.com/assets/colab-badge.svg\" alt=\"Open In Colab\"/></a>"
      ]
    },
    {
      "cell_type": "markdown",
      "metadata": {
        "id": "A-ABrzzsvi0W"
      },
      "source": [
        "# Q1. What is multiprocessing in python? Why is it useful?"
      ]
    },
    {
      "cell_type": "markdown",
      "metadata": {
        "id": "o7Vl1cuGvi0X"
      },
      "source": [
        "**Answer:**\n",
        "- Multiprocessing is a technique in Python where multiple processes are created and run concurrently, each with its own Python interpreter and memory space.\n",
        "- It is useful for parallelizing tasks, taking advantage of multiple CPU cores, and improving the overall performance of CPU-bound and parallelizable tasks."
      ]
    },
    {
      "cell_type": "markdown",
      "metadata": {
        "id": "J78Rb625vi0Y"
      },
      "source": [
        "# Q2. What are the differnces between multiprocessing and multithreading?"
      ]
    },
    {
      "cell_type": "markdown",
      "metadata": {
        "id": "_FKoufo2vi0Y"
      },
      "source": [
        "**Differences:**\n",
        "1. **Memory Space:**\n",
        "   - **Multithreading:** Threads share the same memory space.\n",
        "   - **Multiprocessing:** Processes have separate memory spaces.\n",
        "\n",
        "2. **Global Interpreter Lock (GIL):**\n",
        "   - **Multithreading:** Limited by the Global Interpreter Lock, allowing only one thread to execute Python bytecode at a time.\n",
        "   - **Multiprocessing:** No GIL limitation; each process has its own Python interpreter.\n",
        "\n",
        "3. **Concurrency vs. Parallelism:**\n",
        "   - **Multithreading:** Achieves concurrency, as threads share the same CPU core but switch between tasks.\n",
        "   - **Multiprocessing:** Achieves parallelism, as processes can run simultaneously on different CPU cores."
      ]
    },
    {
      "cell_type": "markdown",
      "metadata": {
        "id": "IcCMhFSFvi0Y"
      },
      "source": [
        "# Q3. Write a python code to create a process using the multiprocessing module."
      ]
    },
    {
      "cell_type": "code",
      "execution_count": null,
      "metadata": {
        "id": "SZLjET-Yvi0Y",
        "outputId": "6e7f86ef-7ac1-46b8-b146-0e21af0c9824",
        "colab": {
          "base_uri": "https://localhost:8080/"
        }
      },
      "outputs": [
        {
          "output_type": "stream",
          "name": "stdout",
          "text": [
            "Number: 42\n"
          ]
        }
      ],
      "source": [
        "import multiprocessing\n",
        "\n",
        "def print_number(number):\n",
        "    print(f\"Number: {number}\")\n",
        "\n",
        "if __name__ == \"__main__\":\n",
        "    # Create a process\n",
        "    process = multiprocessing.Process(target=print_number, args=(42,))\n",
        "\n",
        "    # Start the process\n",
        "    process.start()\n",
        "\n",
        "    # Wait for the process to finish\n",
        "    process.join()"
      ]
    },
    {
      "cell_type": "markdown",
      "metadata": {
        "id": "CTaO3YjWvi0Z"
      },
      "source": [
        "# Q4. What is a multiprocessing pool in python? Why is it used?"
      ]
    },
    {
      "cell_type": "markdown",
      "metadata": {
        "id": "tPHNeFr0vi0Z"
      },
      "source": [
        "**Answer:**\n",
        "- A multiprocessing pool is a mechanism provided by the `multiprocessing` module to create a pool of worker processes.\n",
        "- It is used to parallelize the execution of a function across multiple input values by distributing the workload among the available processes."
      ]
    },
    {
      "cell_type": "markdown",
      "metadata": {
        "id": "y95mTBskvi0Z"
      },
      "source": [
        "# Q5. How can we create a pool of worker processes in python using the multiprocessing module?"
      ]
    },
    {
      "cell_type": "code",
      "execution_count": null,
      "metadata": {
        "id": "6PWM2K8Pvi0Z",
        "outputId": "2757441b-bd60-456b-e207-c3fac519670e",
        "colab": {
          "base_uri": "https://localhost:8080/"
        }
      },
      "outputs": [
        {
          "output_type": "stream",
          "name": "stdout",
          "text": [
            "Square: 4\n",
            "Square: 1Square: 9Square: 16\n",
            "\n",
            "\n",
            "Square: 25\n"
          ]
        }
      ],
      "source": [
        "import multiprocessing\n",
        "\n",
        "def print_square(number):\n",
        "    print(f\"Square: {number * number}\")\n",
        "\n",
        "if __name__ == \"__main__\":\n",
        "    # Create a pool of worker processes\n",
        "    with multiprocessing.Pool(processes=3) as pool:\n",
        "        # Map the function to a list of input values\n",
        "        pool.map(print_square, [1, 2, 3, 4, 5])"
      ]
    },
    {
      "cell_type": "markdown",
      "metadata": {
        "id": "fXwR4UUqvi0Z"
      },
      "source": [
        "# Q6. Write a python program to create 4 processes, each process should print a different number using the multiprocessing module in python."
      ]
    },
    {
      "cell_type": "code",
      "execution_count": null,
      "metadata": {
        "id": "hDnS7_Pwvi0Z",
        "outputId": "1ef91845-98b5-4bab-be66-e5adb6a12973",
        "colab": {
          "base_uri": "https://localhost:8080/"
        }
      },
      "outputs": [
        {
          "output_type": "stream",
          "name": "stdout",
          "text": [
            "Number: 1\n",
            "Number: 2\n",
            "Number: 3Number: 4\n",
            "\n"
          ]
        }
      ],
      "source": [
        "import multiprocessing\n",
        "\n",
        "def print_number(number):\n",
        "    print(f\"Number: {number}\")\n",
        "\n",
        "if __name__ == \"__main__\":\n",
        "    # Create 4 processes\n",
        "    processes = []\n",
        "    for i in range(1, 5):\n",
        "        process = multiprocessing.Process(target=print_number, args=(i,))\n",
        "        processes.append(process)\n",
        "        process.start()\n",
        "\n",
        "    # Wait for all processes to finish\n",
        "    for process in processes:\n",
        "        process.join()"
      ]
    }
  ],
  "metadata": {
    "kernelspec": {
      "display_name": "Python 3",
      "language": "python",
      "name": "python3"
    },
    "language_info": {
      "codemirror_mode": {
        "name": "ipython",
        "version": 3
      },
      "file_extension": ".py",
      "mimetype": "text/x-python",
      "name": "python",
      "nbconvert_exporter": "python",
      "pygments_lexer": "ipython3",
      "version": "3.10.0rc2"
    },
    "colab": {
      "provenance": [],
      "include_colab_link": true
    }
  },
  "nbformat": 4,
  "nbformat_minor": 0
}