{
  "cells": [
    {
      "cell_type": "markdown",
      "metadata": {
        "id": "view-in-github",
        "colab_type": "text"
      },
      "source": [
        "<a href=\"https://colab.research.google.com/github/Akash-Dinkar-Bhujbal/DataScienceMasters_Coursework/blob/master/Week%205%20Python-%20Files%20And%20Exceptional%20Handling%20And%20Memory%20Management/MultithreadingAssignment.ipynb\" target=\"_parent\"><img src=\"https://colab.research.google.com/assets/colab-badge.svg\" alt=\"Open In Colab\"/></a>"
      ]
    },
    {
      "cell_type": "markdown",
      "metadata": {
        "id": "Q6HPwxSgv_hj"
      },
      "source": [
        "# Q1. What is multithreading in python? Why is it used? Name the module used to handle threads in python.\n",
        "\n",
        "**Answer:**\n",
        "- Multithreading is a concurrent execution model where multiple threads exist within the context of a single process. Each thread operates independently, and multiple threads share the same resources such as memory space.\n",
        "- It is used to achieve parallelism and improve the performance of applications that can benefit from concurrent execution.\n",
        "- The module used to handle threads in Python is the `threading` module."
      ]
    },
    {
      "cell_type": "markdown",
      "metadata": {
        "id": "R-ngYk_1v_hl"
      },
      "source": [
        "# Q2. Why threading module used? Write the use of following functions:\n",
        "1. activeCount()\n",
        "2. currentThread()\n",
        "3. enumerate()"
      ]
    },
    {
      "cell_type": "markdown",
      "metadata": {
        "id": "MckaSUR5v_hl"
      },
      "source": [
        "### 2.1 `activeCount()`\n",
        "- **Use:** Returns the number of Thread objects currently alive.\n",
        "- **Example:**"
      ]
    },
    {
      "cell_type": "code",
      "execution_count": 1,
      "metadata": {
        "colab": {
          "base_uri": "https://localhost:8080/"
        },
        "id": "2nbcF5VZv_hl",
        "outputId": "6ecc3401-1f22-46e0-97ab-0104611e0c4a"
      },
      "outputs": [
        {
          "output_type": "stream",
          "name": "stdout",
          "text": [
            "Active Threads: 5\n"
          ]
        },
        {
          "output_type": "stream",
          "name": "stderr",
          "text": [
            "<ipython-input-1-274eda59745d>:3: DeprecationWarning: activeCount() is deprecated, use active_count() instead\n",
            "  print(f\"Active Threads: {threading.activeCount()}\")\n"
          ]
        }
      ],
      "source": [
        "import threading\n",
        "\n",
        "print(f\"Active Threads: {threading.activeCount()}\")"
      ]
    },
    {
      "cell_type": "markdown",
      "metadata": {
        "id": "G-GdNgbhv_hm"
      },
      "source": [
        "### 2.2 `currentThread()`\n",
        "- **Use:** Returns the current Thread object, corresponding to the caller's thread of control.\n",
        "- **Example:**"
      ]
    },
    {
      "cell_type": "code",
      "execution_count": 2,
      "metadata": {
        "colab": {
          "base_uri": "https://localhost:8080/"
        },
        "id": "3DQBgZeNv_hm",
        "outputId": "3822b06e-3249-466f-d5b2-c5e55195d37f"
      },
      "outputs": [
        {
          "output_type": "stream",
          "name": "stdout",
          "text": [
            "Current Thread: MainThread\n"
          ]
        },
        {
          "output_type": "stream",
          "name": "stderr",
          "text": [
            "<ipython-input-2-db70ee767abe>:3: DeprecationWarning: currentThread() is deprecated, use current_thread() instead\n",
            "  current_thread = threading.currentThread()\n"
          ]
        }
      ],
      "source": [
        "import threading\n",
        "\n",
        "current_thread = threading.currentThread()\n",
        "print(f\"Current Thread: {current_thread.name}\")"
      ]
    },
    {
      "cell_type": "markdown",
      "metadata": {
        "id": "tYmGSTwbv_hm"
      },
      "source": [
        "### 2.3 `enumerate()`\n",
        "- **Use:** Returns a list of all Thread objects currently alive.\n",
        "- **Example:**"
      ]
    },
    {
      "cell_type": "code",
      "execution_count": 3,
      "metadata": {
        "colab": {
          "base_uri": "https://localhost:8080/"
        },
        "id": "BBBYWzUlv_hm",
        "outputId": "d050ab1b-4c75-4223-c13e-e02002b719ed"
      },
      "outputs": [
        {
          "output_type": "stream",
          "name": "stdout",
          "text": [
            "All Threads: [<_MainThread(MainThread, started 135321978376192)>, <Thread(Thread-2 (_thread_main), started daemon 135321817749056)>, <Heartbeat(Thread-3, started daemon 135321735919168)>, <ParentPollerUnix(Thread-1, started daemon 135321693447744)>, <Thread(_colab_inspector_thread, started daemon 135321366804032)>]\n"
          ]
        }
      ],
      "source": [
        "import threading\n",
        "\n",
        "threads = threading.enumerate()\n",
        "print(f\"All Threads: {threads}\")"
      ]
    },
    {
      "cell_type": "markdown",
      "metadata": {
        "id": "8sBw9Kx1v_hn"
      },
      "source": [
        "# Q3. Explain the following functions:\n",
        "1. run()\n",
        "2. start()\n",
        "3. join\n",
        "4. isAlive()"
      ]
    },
    {
      "cell_type": "markdown",
      "metadata": {
        "id": "Kd1fRrCdv_hn"
      },
      "source": [
        "### 3.1 `run()`\n",
        "- **Use:** Entry point for the thread's activity. You can override this method in a subclass.\n",
        "\n",
        "### 3.2 `start()`\n",
        "- **Use:** Initiates the thread's activity. It must be called at most once per thread object.\n",
        "\n",
        "### 3.3 `join()`\n",
        "- **Use:** Waits for the thread to complete. It blocks the calling thread until the thread whose `join()` method is called terminates.\n",
        "\n",
        "### 3.4 `isAlive()`\n",
        "- **Use:** Returns `True` if the thread is alive (started and not terminated), and `False` otherwise."
      ]
    },
    {
      "cell_type": "markdown",
      "metadata": {
        "id": "h51LbJVcv_hn"
      },
      "source": [
        "# Q4. Write a python program to create two thread. Thread one must print the list of squares and thread two must print the list of cubes."
      ]
    },
    {
      "cell_type": "code",
      "execution_count": 4,
      "metadata": {
        "colab": {
          "base_uri": "https://localhost:8080/"
        },
        "id": "0c4oDLVav_hn",
        "outputId": "68c1a80a-85e0-40dc-e131-ab456cecdb04"
      },
      "outputs": [
        {
          "output_type": "stream",
          "name": "stdout",
          "text": [
            "Square of 1: 1\n",
            "Square of 2: 4\n",
            "Square of 3: 9\n",
            "Square of 4: 16\n",
            "Square of 5: 25\n",
            "Cube of 1: 1\n",
            "Cube of 2: 8\n",
            "Cube of 3: 27\n",
            "Cube of 4: 64\n",
            "Cube of 5: 125\n"
          ]
        }
      ],
      "source": [
        "import threading\n",
        "\n",
        "def print_squares():\n",
        "    for i in range(1, 6):\n",
        "        print(f\"Square of {i}: {i*i}\")\n",
        "\n",
        "def print_cubes():\n",
        "    for i in range(1, 6):\n",
        "        print(f\"Cube of {i}: {i*i*i}\")\n",
        "\n",
        "# Create threads\n",
        "thread_squares = threading.Thread(target=print_squares)\n",
        "thread_cubes = threading.Thread(target=print_cubes)\n",
        "\n",
        "# Start threads\n",
        "thread_squares.start()\n",
        "thread_cubes.start()\n",
        "\n",
        "# Wait for both threads to finish\n",
        "thread_squares.join()\n",
        "thread_cubes.join()"
      ]
    },
    {
      "cell_type": "markdown",
      "metadata": {
        "id": "YPv7Ayj_v_hn"
      },
      "source": [
        "# Q5. State advantages and disadvantages of multithreading."
      ]
    },
    {
      "cell_type": "markdown",
      "metadata": {
        "id": "-jNpjLhMv_hn"
      },
      "source": [
        "**Advantages:**\n",
        "1. **Improved Performance:** Multithreading can lead to better performance by allowing concurrent execution of tasks.\n",
        "2. **Resource Sharing:** Threads share the same address space, allowing efficient communication and data sharing.\n",
        "3. **Responsiveness:** Multithreading can enhance the responsiveness of applications by keeping certain tasks running in the background.\n",
        "\n",
        "**Disadvantages:**\n",
        "1. **Complexity:** Multithreading can introduce complexity in terms of synchronization and coordination between threads.\n",
        "2. **Race Conditions:** Concurrent access to shared resources can lead to race conditions and unpredictable behavior.\n",
        "3. **Debugging:** Debugging multithreaded applications can be challenging due to the non-deterministic nature of thread execution."
      ]
    },
    {
      "cell_type": "markdown",
      "metadata": {
        "id": "3TqTwgarv_hn"
      },
      "source": [
        "# Q6. Explain deadlocks and race conditions."
      ]
    },
    {
      "cell_type": "markdown",
      "metadata": {
        "id": "vHrRf496v_hn"
      },
      "source": [
        "- **Deadlocks:**\n",
        "  - A deadlock occurs when two or more threads are blocked forever, each waiting for the other to release a resource.\n",
        "  - It happens when multiple threads acquire locks in a circular manner and cannot proceed because each is waiting for a resource held by the other.\n",
        "  - Avoiding deadlocks involves careful design and ordering of resource acquisition to prevent circular waiting.\n",
        "\n",
        "- **Race Conditions:**\n",
        "  - A race condition occurs when the behavior of a program depends on the relative timing of events, such as the order in which threads are scheduled to run.\n",
        "  - It happens when multiple threads access shared data concurrently, and the final outcome depends on the order of execution.\n",
        "  - Preventing race conditions involves proper synchronization mechanisms (e.g., locks) to control access to shared resources."
      ]
    }
  ],
  "metadata": {
    "kernelspec": {
      "display_name": "Python 3",
      "language": "python",
      "name": "python3"
    },
    "language_info": {
      "codemirror_mode": {
        "name": "ipython",
        "version": 3
      },
      "file_extension": ".py",
      "mimetype": "text/x-python",
      "name": "python",
      "nbconvert_exporter": "python",
      "pygments_lexer": "ipython3",
      "version": "3.10.0rc2"
    },
    "colab": {
      "provenance": [],
      "include_colab_link": true
    }
  },
  "nbformat": 4,
  "nbformat_minor": 0
}