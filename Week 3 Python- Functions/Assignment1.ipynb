{
  "nbformat": 4,
  "nbformat_minor": 0,
  "metadata": {
    "colab": {
      "provenance": [],
      "include_colab_link": true
    },
    "kernelspec": {
      "name": "python3",
      "display_name": "Python 3"
    },
    "language_info": {
      "name": "python"
    }
  },
  "cells": [
    {
      "cell_type": "markdown",
      "metadata": {
        "id": "view-in-github",
        "colab_type": "text"
      },
      "source": [
        "<a href=\"https://colab.research.google.com/github/Akash-Dinkar-Bhujbal/DataScienceMasters_Coursework/blob/master/Week%203%20Python-%20Functions/Assignment1.ipynb\" target=\"_parent\"><img src=\"https://colab.research.google.com/assets/colab-badge.svg\" alt=\"Open In Colab\"/></a>"
      ]
    },
    {
      "cell_type": "markdown",
      "source": [
        "# **Q1.** Which keyword is used to create a function? Create a function to return a list of odd numbers in the range of 1 to 25.\n",
        "---\n",
        "**Ans.:**\n",
        "The keyword used to create a function in Python is def."
      ],
      "metadata": {
        "id": "KjeQIlR2QM0u"
      }
    },
    {
      "cell_type": "code",
      "source": [
        "# Function to return a list of odd numbers in the range of 1 to 25\n",
        "def odd_numbers():\n",
        "    return [num for num in range(1, 26) if num % 2 != 0]\n",
        "\n",
        "# Test the function\n",
        "result = odd_numbers()\n",
        "print(result)\n"
      ],
      "metadata": {
        "colab": {
          "base_uri": "https://localhost:8080/"
        },
        "id": "EHdg6p-hZf28",
        "outputId": "d3fffb72-c41b-44b5-9c87-eb77a09a487e"
      },
      "execution_count": null,
      "outputs": [
        {
          "output_type": "stream",
          "name": "stdout",
          "text": [
            "[1, 3, 5, 7, 9, 11, 13, 15, 17, 19, 21, 23, 25]\n"
          ]
        }
      ]
    },
    {
      "cell_type": "markdown",
      "source": [
        "# **Q2.** Why `*args` and `**kwargs` are used in some functions? Create a function each for `*args` and `**kwargs` to demonstrate their use.\n",
        "---\n",
        "\n",
        "**Ans.:**\n",
        "In Python, `*args` and `**kwargs` are used in function definitions to allow a variable number of arguments.\n",
        "\n",
        "`*args` (Arbitrary Arguments):\n",
        "\n",
        "    Purpose: It allows a function to accept any number of positional arguments.\n",
        "    Syntax: *args collects extra positional arguments into a tuple\n",
        "`**kwargs` (Arbitrary Keyword Arguments):\n",
        "\n",
        "    Purpose: It allows a function to accept any number of keyword arguments.\n",
        "    Syntax: **kwargs collects extra keyword arguments into a dictionary."
      ],
      "metadata": {
        "id": "FN9N7JtxbT7f"
      }
    },
    {
      "cell_type": "code",
      "source": [
        "# Function with *args\n",
        "def example_function_args(*args):\n",
        "    for arg in args:\n",
        "        print(arg)\n",
        "\n",
        "# Function with **kwargs\n",
        "def example_function_kwargs(**kwargs):\n",
        "    for key, value in kwargs.items():\n",
        "        print(f\"{key}: {value}\")\n",
        "\n",
        "# Test the functions\n",
        "example_function_args(1, 2, 3)\n",
        "example_function_kwargs(name='John', age=25)\n"
      ],
      "metadata": {
        "colab": {
          "base_uri": "https://localhost:8080/"
        },
        "id": "mOVBwz_pbXC4",
        "outputId": "3741faf1-73bd-4c76-e7e2-99a233e5992d"
      },
      "execution_count": null,
      "outputs": [
        {
          "output_type": "stream",
          "name": "stdout",
          "text": [
            "1\n",
            "2\n",
            "3\n",
            "name: John\n",
            "age: 25\n"
          ]
        }
      ]
    },
    {
      "cell_type": "markdown",
      "source": [
        "# Q3. What is an iterator in python? Name the method used to initialise the iterator object and the method used for iteration. Use these methods to print the first five elements of the given list [2, 4, 6, 8, 10, 12, 14, 16, 18, 20].\n",
        "---\n",
        "**Ans.:**\n",
        "An iterator in Python is an object that can be iterated (looped) over. The iter() method initializes the iterator object, and the next() method is used for iteration.\n"
      ],
      "metadata": {
        "id": "gny1o2Xd-DCz"
      }
    },
    {
      "cell_type": "code",
      "source": [
        "# Initialize iterator\n",
        "my_list = [2, 4, 6, 8, 10, 12, 14, 16, 18, 20]\n",
        "my_iterator = iter(my_list)\n",
        "\n",
        "# Iterate and print the first five elements\n",
        "for _ in range(5):\n",
        "    print(next(my_iterator))\n"
      ],
      "metadata": {
        "colab": {
          "base_uri": "https://localhost:8080/"
        },
        "id": "jSh_Zjz_-p_H",
        "outputId": "bf0c6345-bfa3-4ac0-af26-b922b36cf206"
      },
      "execution_count": null,
      "outputs": [
        {
          "output_type": "stream",
          "name": "stdout",
          "text": [
            "2\n",
            "4\n",
            "6\n",
            "8\n",
            "10\n"
          ]
        }
      ]
    },
    {
      "cell_type": "markdown",
      "source": [
        "# Q4. What is a generator function in python? Why yield keyword is used? Give an example of a generator function.\n",
        "---\n",
        "\n",
        "**Ans.:**\n",
        "A generator function is a special kind of function that `yields` values one at a time using the yield keyword."
      ],
      "metadata": {
        "id": "P6zRacCCLFm4"
      }
    },
    {
      "cell_type": "code",
      "source": [
        "# Generator function example\n",
        "def my_generator():\n",
        "    for i in range(5):\n",
        "        yield i\n",
        "\n",
        "# Test the generator function\n",
        "gen = my_generator()\n",
        "for value in gen:\n",
        "    print(value)\n"
      ],
      "metadata": {
        "colab": {
          "base_uri": "https://localhost:8080/"
        },
        "id": "Ndof8nNZP71W",
        "outputId": "dd0bee09-278d-42db-b309-9b7e392a51e6"
      },
      "execution_count": null,
      "outputs": [
        {
          "output_type": "stream",
          "name": "stdout",
          "text": [
            "0\n",
            "1\n",
            "2\n",
            "3\n",
            "4\n"
          ]
        }
      ]
    },
    {
      "cell_type": "markdown",
      "source": [
        "# Q5. Create a generator function for prime numbers less than 1000. Use the next() method to print the first 20 prime numbers.\n",
        "---"
      ],
      "metadata": {
        "id": "Izph6OcTSjyM"
      }
    },
    {
      "cell_type": "code",
      "source": [
        "def prime_generator():\n",
        "    num = 2\n",
        "    count = 0\n",
        "    while count < 20:\n",
        "        for i in range(2, int(num ** 0.5) + 1):\n",
        "            if num % i == 0:\n",
        "                break\n",
        "        else:\n",
        "            yield num\n",
        "            count += 1\n",
        "        num += 1\n",
        "\n",
        "# Test the generator function\n",
        "prime_gen = prime_generator()\n",
        "for prime in prime_gen:\n",
        "    print(prime)\n"
      ],
      "metadata": {
        "colab": {
          "base_uri": "https://localhost:8080/"
        },
        "id": "jzY6j0RwSvDU",
        "outputId": "76b731ac-0904-4dd1-8d3c-6951246cc7d0"
      },
      "execution_count": null,
      "outputs": [
        {
          "output_type": "stream",
          "name": "stdout",
          "text": [
            "2\n",
            "3\n",
            "5\n",
            "7\n",
            "11\n",
            "13\n",
            "17\n",
            "19\n",
            "23\n",
            "29\n",
            "31\n",
            "37\n",
            "41\n",
            "43\n",
            "47\n",
            "53\n",
            "59\n",
            "61\n",
            "67\n",
            "71\n"
          ]
        }
      ]
    },
    {
      "cell_type": "markdown",
      "source": [
        "# Q6. Write a Python program to print the first 10 Fibonacci numbers using a while loop.\n",
        "\n",
        "---"
      ],
      "metadata": {
        "id": "dy-vPaCCnzLO"
      }
    },
    {
      "cell_type": "code",
      "source": [
        "a, b = 0, 1\n",
        "count = 0\n",
        "while count < 10:\n",
        "    print(a)\n",
        "    a, b = b, a + b\n",
        "    count += 1"
      ],
      "metadata": {
        "id": "OT7FmFI9SEKw"
      },
      "execution_count": null,
      "outputs": []
    },
    {
      "cell_type": "markdown",
      "source": [
        "# Q7. Write a List Comprehension to iterate through the given string: ‘pwskills’.\n",
        "---"
      ],
      "metadata": {
        "id": "uUldEh2mSOYX"
      }
    },
    {
      "cell_type": "code",
      "source": [
        "string = 'pwskills'\n",
        "result = [char for char in string]\n",
        "print(result)  # Output: ['p', 'w', 's', 'k', 'i', 'l', 'l', 's']"
      ],
      "metadata": {
        "id": "ECtOirMMSQyt",
        "outputId": "93630256-835b-4e72-940a-a54ef2785aa7",
        "colab": {
          "base_uri": "https://localhost:8080/"
        }
      },
      "execution_count": 1,
      "outputs": [
        {
          "output_type": "stream",
          "name": "stdout",
          "text": [
            "['p', 'w', 's', 'k', 'i', 'l', 'l', 's']\n"
          ]
        }
      ]
    },
    {
      "cell_type": "markdown",
      "source": [
        "# Q8. Write a Python program to check whether a given number is Palindrome or not using a while loop.\n",
        "---"
      ],
      "metadata": {
        "id": "2PDXmoYLScTS"
      }
    },
    {
      "cell_type": "code",
      "source": [
        "num = int(input(\"Enter a number: \"))\n",
        "temp = num\n",
        "reverse_num = 0\n",
        "while temp != 0:\n",
        "    reverse_num = reverse_num * 10 + temp % 10\n",
        "    temp //= 10\n",
        "if num == reverse_num:\n",
        "    print(\"Palindrome\")\n",
        "else:\n",
        "    print(\"Not a Palindrome\")"
      ],
      "metadata": {
        "id": "30RjTuy0ST6e",
        "outputId": "205a7a60-203b-4076-e87e-6dcff89c531d",
        "colab": {
          "base_uri": "https://localhost:8080/"
        }
      },
      "execution_count": 3,
      "outputs": [
        {
          "output_type": "stream",
          "name": "stdout",
          "text": [
            "Enter a number: 122\n",
            "Not a Palindrome\n"
          ]
        }
      ]
    },
    {
      "cell_type": "markdown",
      "source": [
        "# Q9. Write a code to print odd numbers from 1 to 100 using list comprehension.\n",
        "---"
      ],
      "metadata": {
        "id": "mml3UI4JSrmQ"
      }
    },
    {
      "cell_type": "code",
      "source": [
        "odd_numbers = [num for num in range(1, 101) if num % 2 != 0]\n",
        "print(odd_numbers)"
      ],
      "metadata": {
        "id": "VEAfItH2SkPa",
        "outputId": "92a4afd8-92ee-4eba-bad9-2f0e0977f4fc",
        "colab": {
          "base_uri": "https://localhost:8080/"
        }
      },
      "execution_count": 4,
      "outputs": [
        {
          "output_type": "stream",
          "name": "stdout",
          "text": [
            "[1, 3, 5, 7, 9, 11, 13, 15, 17, 19, 21, 23, 25, 27, 29, 31, 33, 35, 37, 39, 41, 43, 45, 47, 49, 51, 53, 55, 57, 59, 61, 63, 65, 67, 69, 71, 73, 75, 77, 79, 81, 83, 85, 87, 89, 91, 93, 95, 97, 99]\n"
          ]
        }
      ]
    }
  ]
}