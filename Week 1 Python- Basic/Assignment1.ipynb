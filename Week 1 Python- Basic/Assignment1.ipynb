{
  "nbformat": 4,
  "nbformat_minor": 0,
  "metadata": {
    "colab": {
      "provenance": [],
      "name": "Assignment1.ipynb",
      "authorship_tag": "ABX9TyMsR9gI/h5xNy+PM3xTyEoN",
      "include_colab_link": true
    },
    "kernelspec": {
      "name": "python3",
      "display_name": "Python 3"
    },
    "language_info": {
      "name": "python"
    }
  },
  "cells": [
    {
      "cell_type": "markdown",
      "metadata": {
        "id": "view-in-github",
        "colab_type": "text"
      },
      "source": [
        "<a href=\"https://colab.research.google.com/github/Akash-Dinkar-Bhujbal/DataScienceMasters_Coursework/blob/master/Week%201%20Python-%20Basic/Assignment1.ipynb\" target=\"_parent\"><img src=\"https://colab.research.google.com/assets/colab-badge.svg\" alt=\"Open In Colab\"/></a>"
      ]
    },
    {
      "cell_type": "markdown",
      "source": [
        "# Q1. Create one variable containing following type of data:\n",
        "(i) string\n",
        "\n",
        "(ii) list\n",
        "\n",
        "(iii) float\n",
        "\n",
        "(iv) tuple\n",
        "\n",
        "---\n",
        "**Ans.: Creating 'data_types' dictionary type variable stores all data type variables in Key-Value Pair**"
      ],
      "metadata": {
        "id": "tyclFehe7a3B"
      }
    },
    {
      "cell_type": "code",
      "source": [
        "# Q1. Create one variable containing the following type of data:\n",
        "\n",
        "data_types = {\n",
        "    \"string\": \"Hello, world!\",\n",
        "    \"list\": [1, 2, 3, 4, 5],\n",
        "    \"float\": 3.14,\n",
        "    \"tuple\": (6, 7, 8, 9, 10)\n",
        "}\n",
        "\n",
        "data_types"
      ],
      "metadata": {
        "colab": {
          "base_uri": "https://localhost:8080/"
        },
        "id": "pFxK40uzRhnj",
        "outputId": "a2226596-3d7a-407e-d0e3-bdb61a56b6d5"
      },
      "execution_count": null,
      "outputs": [
        {
          "output_type": "execute_result",
          "data": {
            "text/plain": [
              "{'string': 'Hello, world!',\n",
              " 'list': [1, 2, 3, 4, 5],\n",
              " 'float': 3.14,\n",
              " 'tuple': (6, 7, 8, 9, 10)}"
            ]
          },
          "metadata": {},
          "execution_count": 1
        }
      ]
    },
    {
      "cell_type": "markdown",
      "source": [
        "# Q2. Given are some following variables containing data:\n",
        "(i) var1 = ‘ ‘\n",
        "\n",
        "(ii) var2 = ‘[ DS , ML , Python]’\n",
        "\n",
        "(iii) var3 = [ ‘DS’ , ’ML’ , ‘Python’ ]\n",
        "\n",
        "(iv) var4 = 1.\n",
        "\n",
        "What will be the data type of the above given variable.\n",
        "\n",
        "---\n",
        "**Ans.: {'var1': str, 'var2': str, 'var3': list, 'var4': float}**\n"
      ],
      "metadata": {
        "id": "UtzOWv4spoBE"
      }
    },
    {
      "cell_type": "code",
      "source": [
        "# Q2. What will be the data type of the following variables?\n",
        "\n",
        "# Given variables\n",
        "var1 = ' '\n",
        "var2 = '[ DS , ML , Python]'\n",
        "var3 = ['DS', 'ML', 'Python']\n",
        "var4 = 1.\n",
        "\n",
        "data_types_q2 = {\n",
        "    \"var1\": type(var1),\n",
        "    \"var2\": type(var2),\n",
        "    \"var3\": type(var3),\n",
        "    \"var4\": type(var4)\n",
        "}\n",
        "\n",
        "data_types_q2\n"
      ],
      "metadata": {
        "colab": {
          "base_uri": "https://localhost:8080/"
        },
        "id": "nAhTcIPOnbaP",
        "outputId": "cadb7d10-dd35-4407-b656-6f7602023b75"
      },
      "execution_count": null,
      "outputs": [
        {
          "output_type": "execute_result",
          "data": {
            "text/plain": [
              "{'var1': str, 'var2': str, 'var3': list, 'var4': float}"
            ]
          },
          "metadata": {},
          "execution_count": 2
        }
      ]
    },
    {
      "cell_type": "markdown",
      "source": [
        "# Q3. Explain the use of the following operators using an example:\n",
        "(i) /\n",
        "\n",
        "(ii) %\n",
        "\n",
        "(iii) //\n",
        "\n",
        "(iv) **\n",
        "\n",
        "---\n",
        "\n",
        "**Ans.:**\n",
        "\n",
        "(i) / : Division\n",
        "\n",
        "It returns the quotient of the division.\n",
        "Example: 10/3 returns 3.333...\n",
        "\n",
        "(ii) % : Modulus\n",
        "\n",
        "It returns the remainder of the division.\n",
        "Example: 10%3 returns 1\n",
        "\n",
        "(iii) // : Floor Division\n",
        "\n",
        "It returns the quotient of the division, but rounded down to the nearest integer.\n",
        "Example: 10//3 returns 3\n",
        "\n",
        "(iv) ** : Exponentiation\n",
        "\n",
        "It returns the result of raising the first number to the power of the second number.\n",
        "Example: 2\\*\\*3 returns 8"
      ],
      "metadata": {
        "id": "Fu2_rGZ4nYQr"
      }
    },
    {
      "cell_type": "code",
      "source": [
        "# Q3. Explain the use of the following operators using an example:\n",
        "\n",
        "operators_examples = {\n",
        "    \"/\": 10 / 3,\n",
        "    \"%\": 10 % 3,\n",
        "    \"//\": 10 // 3,\n",
        "    \"**\": 2 ** 3\n",
        "}\n",
        "\n",
        "operators_examples\n"
      ],
      "metadata": {
        "colab": {
          "base_uri": "https://localhost:8080/"
        },
        "id": "nd42f4xznyBk",
        "outputId": "dd9ad9dd-c7e2-4f69-e1aa-93e3b6e28405"
      },
      "execution_count": null,
      "outputs": [
        {
          "output_type": "execute_result",
          "data": {
            "text/plain": [
              "{'/': 3.3333333333333335, '%': 1, '//': 3, '**': 8}"
            ]
          },
          "metadata": {},
          "execution_count": 3
        }
      ]
    },
    {
      "cell_type": "markdown",
      "source": [
        "# Q4. Create a list of length 10 of your choice containing multiple types of data. Using for loop print the element and its data type."
      ],
      "metadata": {
        "id": "5Jltmfi3upNW"
      }
    },
    {
      "cell_type": "code",
      "source": [
        "# Q4. Create a list of length 10 of your choice containing multiple types of data.\n",
        "\n",
        "mixed_list = [1, \"Hello\", 3.14, (1, 2), [5, 6], True, 7, \"World\", 9.0, False]\n",
        "\n",
        "# Using a for loop, print the element and its data type.\n",
        "elements_and_types = [(element, type(element)) for element in mixed_list]\n",
        "\n",
        "elements_and_types\n"
      ],
      "metadata": {
        "colab": {
          "base_uri": "https://localhost:8080/"
        },
        "id": "xKCOUKGFuvgR",
        "outputId": "ee72cf4b-5089-486b-855b-fb628b1219ee"
      },
      "execution_count": 3,
      "outputs": [
        {
          "output_type": "execute_result",
          "data": {
            "text/plain": [
              "[(1, int),\n",
              " ('Hello', str),\n",
              " (3.14, float),\n",
              " ((1, 2), tuple),\n",
              " ([5, 6], list),\n",
              " (True, bool),\n",
              " (7, int),\n",
              " ('World', str),\n",
              " (9.0, float),\n",
              " (False, bool)]"
            ]
          },
          "metadata": {},
          "execution_count": 3
        }
      ]
    },
    {
      "cell_type": "markdown",
      "source": [
        "## Q5. Using a while loop, verify if the number A is purely divisible by number B and if so then how many times it can be divisible."
      ],
      "metadata": {
        "id": "gMDXUvqfxCv4"
      }
    },
    {
      "cell_type": "code",
      "source": [
        "# Get user input for A and B\n",
        "A = int(input(\"Enter the value for A: \"))\n",
        "B = int(input(\"Enter the value for B: \"))\n",
        "\n",
        "# Initialize a counter\n",
        "count = 0\n",
        "\n",
        "# Check divisibility using a while loop\n",
        "while A >= B:\n",
        "    A -= B\n",
        "    count += 1\n",
        "\n",
        "print(f\"B can purely divide A a total of {count} times.\")\n"
      ],
      "metadata": {
        "colab": {
          "base_uri": "https://localhost:8080/"
        },
        "id": "Zk-IVL-auygG",
        "outputId": "fb792fe6-c494-4e7c-f3de-e2e014410885"
      },
      "execution_count": 4,
      "outputs": [
        {
          "output_type": "stream",
          "name": "stdout",
          "text": [
            "Enter the value for A: 100\n",
            "Enter the value for B: 7\n",
            "B can purely divide A a total of 14 times.\n"
          ]
        }
      ]
    },
    {
      "cell_type": "markdown",
      "source": [
        "## Q6. Create a list containing 25 int type data. Using for loop and if-else condition print if the element is divisible by 3 or not."
      ],
      "metadata": {
        "id": "gqnP2o7Wz83o"
      }
    },
    {
      "cell_type": "code",
      "source": [
        "# Q6. Create a list containing 25 int type data.\n",
        "\n",
        "int_list = list(range(1, 26))\n",
        "\n",
        "# Using a for loop and if-else condition, check if the element is divisible by 3 or not.\n",
        "divisibility_results = {}\n",
        "for num in int_list:\n",
        "    if num % 3 == 0:\n",
        "        divisibility_results[num] = \"Divisible by 3\"\n",
        "    else:\n",
        "        divisibility_results[num] = \"Not divisible by 3\"\n",
        "\n",
        "divisibility_results\n"
      ],
      "metadata": {
        "colab": {
          "base_uri": "https://localhost:8080/"
        },
        "id": "B_4B5914yagH",
        "outputId": "100e23c1-54ba-4842-88e5-e00213335275"
      },
      "execution_count": 5,
      "outputs": [
        {
          "output_type": "execute_result",
          "data": {
            "text/plain": [
              "{1: 'Not divisible by 3',\n",
              " 2: 'Not divisible by 3',\n",
              " 3: 'Divisible by 3',\n",
              " 4: 'Not divisible by 3',\n",
              " 5: 'Not divisible by 3',\n",
              " 6: 'Divisible by 3',\n",
              " 7: 'Not divisible by 3',\n",
              " 8: 'Not divisible by 3',\n",
              " 9: 'Divisible by 3',\n",
              " 10: 'Not divisible by 3',\n",
              " 11: 'Not divisible by 3',\n",
              " 12: 'Divisible by 3',\n",
              " 13: 'Not divisible by 3',\n",
              " 14: 'Not divisible by 3',\n",
              " 15: 'Divisible by 3',\n",
              " 16: 'Not divisible by 3',\n",
              " 17: 'Not divisible by 3',\n",
              " 18: 'Divisible by 3',\n",
              " 19: 'Not divisible by 3',\n",
              " 20: 'Not divisible by 3',\n",
              " 21: 'Divisible by 3',\n",
              " 22: 'Not divisible by 3',\n",
              " 23: 'Not divisible by 3',\n",
              " 24: 'Divisible by 3',\n",
              " 25: 'Not divisible by 3'}"
            ]
          },
          "metadata": {},
          "execution_count": 5
        }
      ]
    },
    {
      "cell_type": "markdown",
      "source": [
        "# Q7. What do you understand about mutable and immutable data types? Give examples for both showing this property.\n",
        "\n",
        "---\n",
        "\n",
        "Ans.:\n",
        "\n",
        "**Mutable Data Types:**\n",
        "\n",
        "Mutable objects can be changed after they are created. This means we can modify, add, or remove elements from the object without changing the memory location of the object. *Lists and dictionaries* are examples of mutable data types.\n",
        "\n",
        "Example:\n",
        "\n",
        "List: We can append, remove, or modify items in a list after its creation.\n",
        "\n",
        "**Immutable Data Types:**\n",
        "\n",
        "Immutable objects cannot be changed after they are created. This means once the object is created, its content cannot be modified. If you try to modify it, a new object is created in memory. Strings, numbers (int, float), and tuples are examples of immutable data types.\n",
        "\n",
        "Example:\n",
        "\n",
        "String: Even if you try to change a character in a string, you cannot. Any modification results in the creation of a new string.\n"
      ],
      "metadata": {
        "id": "um-EEQxV1WpP"
      }
    },
    {
      "cell_type": "code",
      "source": [
        "# Q7. Mutable and Immutable data types examples.\n",
        "\n",
        "# Mutable example: List\n",
        "mutable_example = [1, 2, 3]\n",
        "original_id_list = id(mutable_example)\n",
        "mutable_example.append(4)  # Modifying the list\n",
        "modified_id_list = id(mutable_example)\n",
        "\n",
        "# Immutable example: String\n",
        "immutable_example = \"Hello\"\n",
        "original_id_string = id(immutable_example)\n",
        "immutable_example += \" World\"  # Trying to modify the string\n",
        "modified_id_string = id(immutable_example)\n",
        "\n",
        "original_id_list, modified_id_list, original_id_string, modified_id_string\n"
      ],
      "metadata": {
        "colab": {
          "base_uri": "https://localhost:8080/"
        },
        "id": "EkvxAP5W1ZXX",
        "outputId": "de1be271-6b22-4de0-c885-145d5f81807b"
      },
      "execution_count": 6,
      "outputs": [
        {
          "output_type": "execute_result",
          "data": {
            "text/plain": [
              "(134632020732032, 134632020732032, 134632005825584, 134632020607216)"
            ]
          },
          "metadata": {},
          "execution_count": 6
        }
      ]
    },
    {
      "cell_type": "code",
      "source": [],
      "metadata": {
        "id": "lcPiLN2Z3T55"
      },
      "execution_count": null,
      "outputs": []
    }
  ]
}