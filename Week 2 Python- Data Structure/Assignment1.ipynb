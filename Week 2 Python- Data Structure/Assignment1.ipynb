{
  "nbformat": 4,
  "nbformat_minor": 0,
  "metadata": {
    "colab": {
      "provenance": [],
      "authorship_tag": "ABX9TyPlgLwJ0+oGpp7/d2iWjEfl",
      "include_colab_link": true
    },
    "kernelspec": {
      "name": "python3",
      "display_name": "Python 3"
    },
    "language_info": {
      "name": "python"
    }
  },
  "cells": [
    {
      "cell_type": "markdown",
      "metadata": {
        "id": "view-in-github",
        "colab_type": "text"
      },
      "source": [
        "<a href=\"https://colab.research.google.com/github/Akash-Dinkar-Bhujbal/DataScienceMasters_Coursework/blob/master/Week%202%20Python-%20Data%20Structure/Assignment1.ipynb\" target=\"_parent\"><img src=\"https://colab.research.google.com/assets/colab-badge.svg\" alt=\"Open In Colab\"/></a>"
      ]
    },
    {
      "cell_type": "markdown",
      "source": [
        "# Q1. How do you comment code in Python? What are the different types of comments?\n",
        "\n",
        "**Answer:** In Python, we can add comments using the # symbol. This symbol comments out everything following it on the same line. There is no multi-line comment syntax in Python, but we can use triple quotes (''' or \"\"\") to create multi-line strings which are often used as a workaround for multi-line comments."
      ],
      "metadata": {
        "id": "Hki3VvdeZXSC"
      }
    },
    {
      "cell_type": "code",
      "source": [
        "# This is a single-line comment\n",
        "'''\n",
        "This is a Multi-line comment\n",
        "'''\n"
      ],
      "metadata": {
        "colab": {
          "base_uri": "https://localhost:8080/"
        },
        "id": "rDmC3AF3aCmP",
        "outputId": "791f92ed-5a2d-4053-a2c1-4684d62e3911"
      },
      "execution_count": 23,
      "outputs": [
        {
          "output_type": "stream",
          "name": "stdout",
          "text": [
            "Hello, World!\n"
          ]
        }
      ]
    },
    {
      "cell_type": "markdown",
      "source": [
        "# Q2. What are variables in Python? How do you declare and assign values to variables?\n",
        "**Answer:** Variables in Python are used to store data values. To declare a variable, you simply assign a value to it using the = operator.\n",
        "\n",
        "**For example:**"
      ],
      "metadata": {
        "id": "ZSbb7f_MZtM2"
      }
    },
    {
      "cell_type": "code",
      "source": [
        "x = 10\n",
        "name = \"Akash\""
      ],
      "metadata": {
        "id": "ah8tkce4bxHq"
      },
      "execution_count": 3,
      "outputs": []
    },
    {
      "cell_type": "markdown",
      "source": [
        "# Q3. How do you convert one data type to another in Python?\n",
        "**Answer:** We can use built-in functions like int(), float(), str(), etc., to convert one data type to another.\n",
        "\n",
        "**For example:**"
      ],
      "metadata": {
        "id": "5aC9QJGmb2Li"
      }
    },
    {
      "cell_type": "code",
      "source": [
        "num_str = \"10\"\n",
        "num_int = int(num_str)"
      ],
      "metadata": {
        "id": "Mn_yZe4Mb9Q2"
      },
      "execution_count": 4,
      "outputs": []
    },
    {
      "cell_type": "markdown",
      "source": [
        "# Q4. How do you write and execute a Python script from the command line?\n",
        "**Answer:** To write a Python script, we create a .py file using a text editor. To execute it from the command line, navigate to the directory containing the script and run python script_name.py."
      ],
      "metadata": {
        "id": "vVh-95TvdZNS"
      }
    },
    {
      "cell_type": "markdown",
      "source": [
        "# Q5. Given a list my_list = [1, 2, 3, 4, 5], write the code to slice the list and obtain the sub-list [2, 3].\n",
        "\n",
        "**Answer:**"
      ],
      "metadata": {
        "id": "iRsILlXid1UV"
      }
    },
    {
      "cell_type": "code",
      "source": [
        "my_list = [1, 2, 3, 4, 5]\n",
        "sub_list = my_list[1:3]\n",
        "print(sub_list)"
      ],
      "metadata": {
        "colab": {
          "base_uri": "https://localhost:8080/"
        },
        "id": "7T7SNthweAKi",
        "outputId": "a0c2558c-e857-4ccc-b3b1-936076d103cc"
      },
      "execution_count": 6,
      "outputs": [
        {
          "output_type": "stream",
          "name": "stdout",
          "text": [
            "[2, 3]\n"
          ]
        }
      ]
    },
    {
      "cell_type": "markdown",
      "source": [
        "# Q6. What is a complex number in mathematics, and how is it represented in Python?\n",
        "\n",
        "**Answer:** A complex number has both a real part and an imaginary part (e.g., a + bi).\n",
        "In Python, a complex number is represented as a + bj, where j is the imaginary unit."
      ],
      "metadata": {
        "id": "D8Wod3kfeTYY"
      }
    },
    {
      "cell_type": "markdown",
      "source": [
        "# Q7. What is the correct way to declare a variable named age and assign the value 25 to it?\n",
        "\n",
        "**Answer:**"
      ],
      "metadata": {
        "id": "qI9r04uPfTlv"
      }
    },
    {
      "cell_type": "code",
      "source": [
        "age = 25"
      ],
      "metadata": {
        "id": "1dQkktAdfihN"
      },
      "execution_count": 8,
      "outputs": []
    },
    {
      "cell_type": "markdown",
      "source": [
        "# Q8. Declare a variable named price and assign the value 9.99 to it. What data type does this variable belong to?\n",
        "\n",
        "**Answer:**\n",
        "The variable price belongs to the float data type."
      ],
      "metadata": {
        "id": "hXBhNoy-frnD"
      }
    },
    {
      "cell_type": "code",
      "source": [
        "price = 9.99\n",
        "print(type(price))"
      ],
      "metadata": {
        "colab": {
          "base_uri": "https://localhost:8080/"
        },
        "id": "IgSa35o-f4nU",
        "outputId": "51e6a177-90cd-4318-e84b-41a7b6e461b7"
      },
      "execution_count": 9,
      "outputs": [
        {
          "output_type": "stream",
          "name": "stdout",
          "text": [
            "<class 'float'>\n"
          ]
        }
      ]
    },
    {
      "cell_type": "markdown",
      "source": [
        "# Q9. Create a variable named name and assign your full name to it as a string. How would you print the value of this variable?\n",
        "\n",
        "**Answer:**"
      ],
      "metadata": {
        "id": "hRlc1eDpgBpe"
      }
    },
    {
      "cell_type": "code",
      "source": [
        "name = \"Akash Bhujbal\"\n",
        "print(name)\n"
      ],
      "metadata": {
        "colab": {
          "base_uri": "https://localhost:8080/"
        },
        "id": "sMV4kPXXgJKQ",
        "outputId": "adc1fa78-b65b-4817-f6af-0aee6a36f462"
      },
      "execution_count": 11,
      "outputs": [
        {
          "output_type": "stream",
          "name": "stdout",
          "text": [
            "Akash Bhujbal\n"
          ]
        }
      ]
    },
    {
      "cell_type": "markdown",
      "source": [
        "# Q10. Given the string \"Hello, World!\", extract the substring \"World\".\n",
        "\n",
        "**Answer:**"
      ],
      "metadata": {
        "id": "1JhC7WIvgTYx"
      }
    },
    {
      "cell_type": "code",
      "source": [
        "s = \"Hello, World!\"\n",
        "substring = s[7:12]\n",
        "print(substring)"
      ],
      "metadata": {
        "colab": {
          "base_uri": "https://localhost:8080/"
        },
        "id": "9SI8SmXsgWa3",
        "outputId": "92516193-12a6-4664-f2b5-cdb53b69eb1e"
      },
      "execution_count": 16,
      "outputs": [
        {
          "output_type": "stream",
          "name": "stdout",
          "text": [
            "World\n"
          ]
        }
      ]
    },
    {
      "cell_type": "markdown",
      "source": [
        "# Q11. Create a variable named is_student and assign it a boolean value indicating whether you are currently a student or not.\n",
        "\n",
        "**Answer:**"
      ],
      "metadata": {
        "id": "pu9v9Wy4gkm4"
      }
    },
    {
      "cell_type": "code",
      "source": [
        "is_student = True\n",
        "# I am currently a student at PWSkills, which is why this is set to True. Otherwise, it would be set to False."
      ],
      "metadata": {
        "id": "zMnmtq7vgYEu"
      },
      "execution_count": 17,
      "outputs": []
    }
  ]
}