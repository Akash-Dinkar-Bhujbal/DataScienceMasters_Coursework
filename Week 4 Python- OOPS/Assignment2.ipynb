{
  "cells": [
    {
      "cell_type": "markdown",
      "metadata": {
        "id": "view-in-github",
        "colab_type": "text"
      },
      "source": [
        "<a href=\"https://colab.research.google.com/github/Akash-Dinkar-Bhujbal/DataScienceMasters_Coursework/blob/master/Week%204%20Python-%20OOPS/Assignment2.ipynb\" target=\"_parent\"><img src=\"https://colab.research.google.com/assets/colab-badge.svg\" alt=\"Open In Colab\"/></a>"
      ]
    },
    {
      "cell_type": "markdown",
      "metadata": {
        "id": "bdlo1MeN8vF1"
      },
      "source": [
        "# Q1. Explain Class and Object with respect to Object-Oriented Programming. Give a suitable example.\n",
        "\n",
        "Ans.:\n",
        "Class:\n",
        "\n",
        "    A class is a blueprint or a template for creating objects.\n",
        "    It defines a set of attributes and methods that will be shared by all instances (objects) created from the class.\n",
        "\n",
        "Object:\n",
        "\n",
        "    An object is an instance of a class.\n",
        "    It is a concrete entity created from a class, and it can have its own unique data and behavior while inheriting the attributes and methods from its class.\n",
        "\n",
        "Example:\n",
        "\n",
        "In this example, `Car` is a class that defines the blueprint for creating cars. `car1` and `car2` are objects (instances) of the `Car` class."
      ]
    },
    {
      "cell_type": "code",
      "execution_count": null,
      "metadata": {
        "id": "8YvqhtLJ8vF3",
        "outputId": "88e92699-1c8d-493f-911c-8412cf3479bc"
      },
      "outputs": [
        {
          "name": "stdout",
          "output_type": "stream",
          "text": [
            "Toyota Camry\n",
            "Honda Accord\n"
          ]
        }
      ],
      "source": [
        "# Class definition\n",
        "class Car:\n",
        "    def __init__(self, brand, model):\n",
        "        self.brand = brand\n",
        "        self.model = model\n",
        "\n",
        "    def display_info(self):\n",
        "        print(f\"{self.brand} {self.model}\")\n",
        "\n",
        "# Object creation\n",
        "car1 = Car(\"Toyota\", \"Camry\")\n",
        "car2 = Car(\"Honda\", \"Accord\")\n",
        "\n",
        "# Using objects\n",
        "car1.display_info()  # Output: Toyota Camry\n",
        "car2.display_info()  # Output: Honda Accord"
      ]
    },
    {
      "cell_type": "markdown",
      "metadata": {
        "id": "L8B7-S6O8vF5"
      },
      "source": [
        "# Q2. Name the four pillars of OOPs.\n",
        "\n",
        "Ans.:\n",
        "The four pillars of Object-Oriented Programming (OOP) are:\n",
        "\n",
        "    Encapsulation: Bundling the data (attributes) and the methods that operate on the data into a single unit known as a class. It restricts access to some of the object's components, protecting the integrity of the data.\n",
        "\n",
        "    Abstraction: Hiding the complex reality while exposing only the necessary parts. It involves simplifying the complex systems by modeling classes based on the essential properties and behaviors.\n",
        "\n",
        "    Inheritance: A mechanism that allows a class to inherit properties and behaviors from another class. It promotes code reusability and establishes a relationship between a parent class and a child class.\n",
        "\n",
        "    Polymorphism: The ability of a single function or method to operate on different types of data or, more precisely, on objects of different classes. It allows objects of different classes to be treated as objects of a common base class."
      ]
    },
    {
      "cell_type": "markdown",
      "metadata": {
        "id": "4luJWysg8vF5"
      },
      "source": [
        "# Q3. Explain why the `__init__()` function is used. Give a suitable example.\n",
        "\n",
        "Ans.:\n",
        "The `__init__()` function is a special method in Python classes used for initializing the object's attributes. It is called automatically when an object is created from the class.\n",
        "\n",
        "Example:\n",
        "In this example, the `__init__()` method is used to initialize the name and age attributes when a Student object (student1) is created."
      ]
    },
    {
      "cell_type": "code",
      "execution_count": null,
      "metadata": {
        "id": "9GaQcthS8vF5",
        "outputId": "d32a928d-dec6-41d3-b7ff-86ad814260ec"
      },
      "outputs": [
        {
          "name": "stdout",
          "output_type": "stream",
          "text": [
            "Name: John, Age: 20\n"
          ]
        }
      ],
      "source": [
        "class Student:\n",
        "    def __init__(self, name, age):\n",
        "        self.name = name\n",
        "        self.age = age\n",
        "\n",
        "    def display_info(self):\n",
        "        print(f\"Name: {self.name}, Age: {self.age}\")\n",
        "\n",
        "# Creating an object and initializing attributes\n",
        "student1 = Student(\"John\", 20)\n",
        "\n",
        "# Using the object\n",
        "student1.display_info()  # Output: Name: John, Age: 20\n"
      ]
    },
    {
      "cell_type": "markdown",
      "metadata": {
        "id": "df9leWgL8vF5"
      },
      "source": [
        "# Q4. Why self is used in OOPs?\n",
        "\n",
        "Ans.:\n",
        "\n",
        "In object-oriented programming (OOP), self is a convention used to represent the instance of a class. It is the first parameter in the method definition and refers to the instance of the class on which the method is called.\n",
        "\n",
        "Example:\n",
        "\n",
        "In this example, self refers to the instance of the MyClass class. When the display_info method is called on obj, it is equivalent to calling MyClass.display_info(obj). The use of self allows us to access and modify the attributes and methods of the instance within the class."
      ]
    },
    {
      "cell_type": "code",
      "execution_count": null,
      "metadata": {
        "id": "E8b_4f_T8vF6",
        "outputId": "7bb85fb2-c9ee-4862-ed14-64be99425783"
      },
      "outputs": [
        {
          "name": "stdout",
          "output_type": "stream",
          "text": [
            "This is a method in MyClass\n"
          ]
        }
      ],
      "source": [
        "class MyClass:\n",
        "    def display_info(self):\n",
        "        print(\"This is a method in MyClass\")\n",
        "\n",
        "# Creating an object\n",
        "obj = MyClass()\n",
        "\n",
        "# Calling a method using the object\n",
        "obj.display_info()  # Output: This is a method in MyClass\n"
      ]
    },
    {
      "cell_type": "markdown",
      "metadata": {
        "id": "mzt7r_Oh8vF6"
      },
      "source": [
        "# Q5. What is inheritance? Give an example for each type of inheritance.\n",
        "\n",
        "Ans.:\n",
        "\n",
        "Inheritance:\n",
        "\n",
        "    Inheritance is a mechanism in object-oriented programming that allows a class (subclass or derived class) to inherit properties and behaviors from another class (superclass or base class).\n",
        "    It promotes code reuse and establishes an \"is-a\" relationship between the classes.\n",
        "\n",
        "Example for Single Inheritance:"
      ]
    },
    {
      "cell_type": "code",
      "execution_count": null,
      "metadata": {
        "id": "NAW_Hf-S8vF6",
        "outputId": "079b7baa-d0b4-4a04-972a-f036b5c6d71f"
      },
      "outputs": [
        {
          "name": "stdout",
          "output_type": "stream",
          "text": [
            "Animal speaks\n",
            "Dog barks\n"
          ]
        }
      ],
      "source": [
        "class Animal:\n",
        "    def speak(self):\n",
        "        print(\"Animal speaks\")\n",
        "\n",
        "class Dog(Animal):\n",
        "    def bark(self):\n",
        "        print(\"Dog barks\")\n",
        "\n",
        "# Using inheritance\n",
        "dog = Dog()\n",
        "dog.speak()  # Output: Animal speaks\n",
        "dog.bark()   # Output: Dog barks\n"
      ]
    },
    {
      "cell_type": "markdown",
      "metadata": {
        "id": "c5ndwG6b8vF6"
      },
      "source": [
        "Example for Multiple Inheritance:"
      ]
    },
    {
      "cell_type": "code",
      "execution_count": null,
      "metadata": {
        "id": "yVsNjCM78vF6",
        "outputId": "32ccf933-5821-451f-845a-3e2a4588caa9"
      },
      "outputs": [
        {
          "name": "stdout",
          "output_type": "stream",
          "text": [
            "Can fly\n",
            "Can swim\n"
          ]
        }
      ],
      "source": [
        "class Flyable:\n",
        "    def fly(self):\n",
        "        print(\"Can fly\")\n",
        "\n",
        "class Swimmable:\n",
        "    def swim(self):\n",
        "        print(\"Can swim\")\n",
        "\n",
        "class Amphibian(Flyable, Swimmable):\n",
        "    pass\n",
        "\n",
        "# Using multiple inheritance\n",
        "amphibian = Amphibian()\n",
        "amphibian.fly()   # Output: Can fly\n",
        "amphibian.swim()  # Output: Can swim\n"
      ]
    },
    {
      "cell_type": "markdown",
      "metadata": {
        "id": "hKhExnqK8vF7"
      },
      "source": [
        "Example for Multilevel Inheritance:"
      ]
    },
    {
      "cell_type": "code",
      "execution_count": null,
      "metadata": {
        "id": "uU7G_MUX8vF7",
        "outputId": "3a36beb8-fab7-422f-d7d4-f7fab50c6fa5"
      },
      "outputs": [
        {
          "name": "stdout",
          "output_type": "stream",
          "text": [
            "Vehicle started\n",
            "Car is being driven\n",
            "Sports car racing\n"
          ]
        }
      ],
      "source": [
        "class Vehicle:\n",
        "    def start(self):\n",
        "        print(\"Vehicle started\")\n",
        "\n",
        "class Car(Vehicle):\n",
        "    def drive(self):\n",
        "        print(\"Car is being driven\")\n",
        "\n",
        "class SportsCar(Car):\n",
        "    def race(self):\n",
        "        print(\"Sports car racing\")\n",
        "\n",
        "# Using multilevel inheritance\n",
        "sports_car = SportsCar()\n",
        "sports_car.start()  # Output: Vehicle started\n",
        "sports_car.drive()  # Output: Car is being driven\n",
        "sports_car.race()   # Output: Sports car racing\n"
      ]
    },
    {
      "cell_type": "markdown",
      "metadata": {
        "id": "2nI5aGqo8vF7"
      },
      "source": [
        "In these examples, you can see different types of inheritance: single inheritance, multiple inheritance, and multilevel inheritance. Each type serves a specific purpose in organizing and reusing code in an object-oriented program."
      ]
    },
    {
      "cell_type": "markdown",
      "metadata": {
        "id": "ZpaWfsWw8vF7"
      },
      "source": []
    }
  ],
  "metadata": {
    "kernelspec": {
      "display_name": "Python 3",
      "language": "python",
      "name": "python3"
    },
    "language_info": {
      "codemirror_mode": {
        "name": "ipython",
        "version": 3
      },
      "file_extension": ".py",
      "mimetype": "text/x-python",
      "name": "python",
      "nbconvert_exporter": "python",
      "pygments_lexer": "ipython3",
      "version": "3.10.0rc2"
    },
    "colab": {
      "provenance": [],
      "include_colab_link": true
    }
  },
  "nbformat": 4,
  "nbformat_minor": 0
}