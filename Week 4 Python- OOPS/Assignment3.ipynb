{
  "cells": [
    {
      "cell_type": "markdown",
      "metadata": {
        "id": "view-in-github",
        "colab_type": "text"
      },
      "source": [
        "<a href=\"https://colab.research.google.com/github/Akash-Dinkar-Bhujbal/DataScienceMasters_Coursework/blob/master/Week%204%20Python-%20OOPS/Assignment3.ipynb\" target=\"_parent\"><img src=\"https://colab.research.google.com/assets/colab-badge.svg\" alt=\"Open In Colab\"/></a>"
      ]
    },
    {
      "cell_type": "markdown",
      "metadata": {
        "id": "E3xIbtZ5Fwkc"
      },
      "source": [
        "# Q1. What is Abstraction in OOps? Explain with an example.\n",
        "\n",
        "Ans.:\n",
        "\n",
        "Abstraction is one of the fundamental principles of Object-Oriented Programming (OOP). It involves hiding the complex reality while exposing only the essential parts. In other words, abstraction allows you to focus on the essential features of an object while ignoring the unnecessary details.\n",
        "\n",
        "Example:\n",
        "\n",
        "Here, the Shape class is abstract, as it contains a method (area) without a concrete implementation. The Circle and Rectangle classes are concrete classes that inherit from the abstract class Shape and provide their own implementations of the area method."
      ]
    },
    {
      "cell_type": "code",
      "execution_count": null,
      "metadata": {
        "id": "t9QcuozsFwkf"
      },
      "outputs": [],
      "source": [
        "class Shape:\n",
        "    def area(self):\n",
        "        pass\n",
        "\n",
        "class Circle(Shape):\n",
        "    def __init__(self, radius):\n",
        "        self.radius = radius\n",
        "\n",
        "    def area(self):\n",
        "        return 3.14 * self.radius * self.radius\n",
        "\n",
        "class Rectangle(Shape):\n",
        "    def __init__(self, length, width):\n",
        "        self.length = length\n",
        "        self.width = width\n",
        "\n",
        "    def area(self):\n",
        "        return self.length * self.width\n"
      ]
    },
    {
      "cell_type": "markdown",
      "metadata": {
        "id": "WIEanoWGFwkh"
      },
      "source": [
        "# Q2. Differentiate between Abstraction and Encapsulation. Explain with an example.\n",
        "\n",
        "Ans.:\n",
        "\n",
        "    Abstraction: It involves hiding the complex reality while exposing only the necessary parts. It focuses on the essential features without dealing with the details.\n",
        "\n",
        "    Encapsulation: It involves bundling the data (attributes) and the methods that operate on the data into a single unit known as a class. It restricts access to some of the object's components, protecting the integrity of the data.\n",
        "\n",
        "Example:"
      ]
    },
    {
      "cell_type": "code",
      "execution_count": null,
      "metadata": {
        "id": "w1oxht8XFwki",
        "outputId": "2eebe4cc-f763-4e11-dacd-1928b90053ca"
      },
      "outputs": [
        {
          "name": "stdout",
          "output_type": "stream",
          "text": [
            "Python 101\n"
          ]
        }
      ],
      "source": [
        "# Abstraction\n",
        "class Car:\n",
        "    def start(self):\n",
        "        pass\n",
        "\n",
        "# Encapsulation\n",
        "class Book:\n",
        "    def __init__(self, title, author):\n",
        "        self.title = title\n",
        "        self.author = author\n",
        "\n",
        "    def get_title(self):\n",
        "        return self.title\n",
        "\n",
        "# Using abstraction and encapsulation\n",
        "car = Car()  # Abstraction (details of starting are hidden)\n",
        "book = Book(\"Python 101\", \"John Doe\")  # Encapsulation (attributes are encapsulated)\n",
        "print(book.get_title())  # Output: Python 101\n"
      ]
    },
    {
      "cell_type": "markdown",
      "metadata": {
        "id": "RE1OHSOzFwki"
      },
      "source": [
        "# Q3. What is `abc` module in python? Why is it used?\n",
        "\n",
        "Ans.:\n",
        "\n",
        "    The abc module in Python stands for Abstract Base Classes.\n",
        "    It provides a way to define abstract classes and abstract methods, enforcing the presence of certain methods in concrete (non-abstract) classes.\n",
        "\n",
        "Usage:\n",
        "\n",
        "In this example, `MyAbstractClass` is an abstract class with an abstract method. The `MyClass` class inherits from `MyAbstractClass` and provides an implementation for the abstract method."
      ]
    },
    {
      "cell_type": "code",
      "execution_count": null,
      "metadata": {
        "id": "B_KJ9U58Fwkj",
        "outputId": "849096a6-99e6-4962-e1c7-94ace7b28ea6"
      },
      "outputs": [
        {
          "name": "stdout",
          "output_type": "stream",
          "text": [
            "Implementation in MyClass\n"
          ]
        }
      ],
      "source": [
        "from abc import ABC, abstractmethod\n",
        "\n",
        "class MyAbstractClass(ABC):\n",
        "    @abstractmethod\n",
        "    def my_abstract_method(self):\n",
        "        pass\n",
        "\n",
        "class MyClass(MyAbstractClass):\n",
        "    def my_abstract_method(self):\n",
        "        print(\"Implementation in MyClass\")\n",
        "\n",
        "# Using abc module\n",
        "obj = MyClass()\n",
        "obj.my_abstract_method()  # Output: Implementation in MyClass\n"
      ]
    },
    {
      "cell_type": "markdown",
      "metadata": {
        "id": "IHWLlsWIFwkj"
      },
      "source": [
        "# Q4. How can we achieve data abstraction?\n",
        "\n",
        "Ans.:\n",
        "\n",
        "    Data abstraction in Python can be achieved by using abstract classes and abstract methods.\n",
        "    Abstract classes can define abstract methods that must be implemented by concrete (non-abstract) subclasses.\n",
        "\n",
        "Example:\n",
        "\n",
        "In this example, `Database` is an abstract class with an abstract method `connect`. The concrete classes `MySQL` and `PostgreSQL` provide specific implementations for the `connect` method, achieving data abstraction."
      ]
    },
    {
      "cell_type": "code",
      "execution_count": null,
      "metadata": {
        "id": "8TKHDUJEFwkk",
        "outputId": "6b46a87e-97e7-497c-d617-3244a124315f"
      },
      "outputs": [
        {
          "name": "stdout",
          "output_type": "stream",
          "text": [
            "Connecting to MySQL Database\n",
            "Connecting to PostgreSQL Database\n"
          ]
        }
      ],
      "source": [
        "from abc import ABC, abstractmethod\n",
        "\n",
        "class Database(ABC):\n",
        "    @abstractmethod\n",
        "    def connect(self):\n",
        "        pass\n",
        "\n",
        "class MySQL(Database):\n",
        "    def connect(self):\n",
        "        print(\"Connecting to MySQL Database\")\n",
        "\n",
        "class PostgreSQL(Database):\n",
        "    def connect(self):\n",
        "        print(\"Connecting to PostgreSQL Database\")\n",
        "\n",
        "# Using data abstraction\n",
        "mysql_db = MySQL()\n",
        "mysql_db.connect()  # Output: Connecting to MySQL Database\n",
        "\n",
        "postgres_db = PostgreSQL()\n",
        "postgres_db.connect()  # Output: Connecting to PostgreSQL Database\n"
      ]
    },
    {
      "cell_type": "markdown",
      "metadata": {
        "id": "fXUvOia2Fwkk"
      },
      "source": [
        "# Q5. Can we create an instance of an abstract class? Explain your answer.\n",
        "\n",
        "Ans.:\n",
        "\n",
        "No, you cannot create an instance of an abstract class in Python. Abstract classes are meant to be subclassed, and they typically contain abstract methods that must be implemented by concrete (non-abstract) subclasses.\n",
        "\n",
        "Example:\n",
        "\n",
        "In this example, attempting to create an instance of `MyAbstractClass` directly results in a `TypeError`. To use the functionality defined in `MyAbstractClass`, you need to create a concrete subclass and provide implementations for the abstract methods."
      ]
    },
    {
      "cell_type": "code",
      "execution_count": null,
      "metadata": {
        "id": "jPib0feEFwkk",
        "outputId": "e0a25161-01e7-440a-a4f1-3905c9437dbc"
      },
      "outputs": [
        {
          "ename": "TypeError",
          "evalue": "Can't instantiate abstract class MyAbstractClass with abstract method my_abstract_method",
          "output_type": "error",
          "traceback": [
            "\u001b[1;31m---------------------------------------------------------------------------\u001b[0m",
            "\u001b[1;31mTypeError\u001b[0m                                 Traceback (most recent call last)",
            "Cell \u001b[1;32mIn[8], line 10\u001b[0m\n\u001b[0;32m      6\u001b[0m         \u001b[38;5;28;01mpass\u001b[39;00m\n\u001b[0;32m      8\u001b[0m \u001b[38;5;66;03m# Attempting to create an instance of an abstract class\u001b[39;00m\n\u001b[0;32m      9\u001b[0m \u001b[38;5;66;03m# This will raise a TypeError\u001b[39;00m\n\u001b[1;32m---> 10\u001b[0m obj \u001b[38;5;241m=\u001b[39m \u001b[43mMyAbstractClass\u001b[49m\u001b[43m(\u001b[49m\u001b[43m)\u001b[49m  \u001b[38;5;66;03m# TypeError: Can't instantiate abstract class MyAbstractClass with abstract methods my_abstract_method\u001b[39;00m\n",
            "\u001b[1;31mTypeError\u001b[0m: Can't instantiate abstract class MyAbstractClass with abstract method my_abstract_method"
          ]
        }
      ],
      "source": [
        "from abc import ABC, abstractmethod\n",
        "\n",
        "class MyAbstractClass(ABC):\n",
        "    @abstractmethod\n",
        "    def my_abstract_method(self):\n",
        "        pass\n",
        "\n",
        "# Attempting to create an instance of an abstract class\n",
        "# This will raise a TypeError\n",
        "obj = MyAbstractClass()  # TypeError: Can't instantiate abstract class MyAbstractClass with abstract methods my_abstract_method\n"
      ]
    },
    {
      "cell_type": "code",
      "execution_count": null,
      "metadata": {
        "id": "KD6OBXY2Fwkl"
      },
      "outputs": [],
      "source": []
    }
  ],
  "metadata": {
    "kernelspec": {
      "display_name": "Python 3",
      "language": "python",
      "name": "python3"
    },
    "language_info": {
      "codemirror_mode": {
        "name": "ipython",
        "version": 3
      },
      "file_extension": ".py",
      "mimetype": "text/x-python",
      "name": "python",
      "nbconvert_exporter": "python",
      "pygments_lexer": "ipython3",
      "version": "3.10.0rc2"
    },
    "colab": {
      "provenance": [],
      "include_colab_link": true
    }
  },
  "nbformat": 4,
  "nbformat_minor": 0
}