{
  "nbformat": 4,
  "nbformat_minor": 0,
  "metadata": {
    "colab": {
      "provenance": [],
      "include_colab_link": true
    },
    "kernelspec": {
      "name": "python3",
      "display_name": "Python 3"
    },
    "language_info": {
      "name": "python"
    }
  },
  "cells": [
    {
      "cell_type": "markdown",
      "metadata": {
        "id": "view-in-github",
        "colab_type": "text"
      },
      "source": [
        "<a href=\"https://colab.research.google.com/github/Akash-Dinkar-Bhujbal/DataScienceMasters_Coursework/blob/master/Week%204%20Python-%20OOPS/Assignment1.ipynb\" target=\"_parent\"><img src=\"https://colab.research.google.com/assets/colab-badge.svg\" alt=\"Open In Colab\"/></a>"
      ]
    },
    {
      "cell_type": "markdown",
      "source": [
        "# Q1. Create a vehicle class with an `__init__` method having instance variables as `name_of_vehicle`, `max_speed`, and `average_of_vehicle`."
      ],
      "metadata": {
        "id": "JwZAQXyPzpRL"
      }
    },
    {
      "cell_type": "code",
      "source": [
        "class Vehicle:\n",
        "    def __init__(self, name_of_vehicle, max_speed, average_of_vehicle):\n",
        "        # self.name_of_vehicle, self.max_speed and self.average_of_vehicle are instance variables.\n",
        "        self.name_of_vehicle = name_of_vehicle\n",
        "        self.max_speed = max_speed\n",
        "        self.average_of_vehicle = average_of_vehicle\n",
        "\n",
        "# Example usage:\n",
        "bike = Vehicle(\"Car\", 200, 30)\n",
        "print(f\"Name: {bike.name_of_vehicle}, Max Speed: {bike.max_speed}, Average: {bike.average_of_vehicle}\")"
      ],
      "metadata": {
        "colab": {
          "base_uri": "https://localhost:8080/"
        },
        "id": "3olYwKOC0Qm-",
        "outputId": "950e6183-18fc-4009-daa4-0396d68eefb0"
      },
      "execution_count": 2,
      "outputs": [
        {
          "output_type": "stream",
          "name": "stdout",
          "text": [
            "Name: Car, Max Speed: 200, Average: 30\n"
          ]
        }
      ]
    },
    {
      "cell_type": "markdown",
      "source": [
        "# Q2. Create a child class `Car` from the `Vehicle` class created in Q1. Create a method named `seating_capacity` which takes capacity as an argument and returns the name of the vehicle and its seating capacity."
      ],
      "metadata": {
        "id": "i9SP8Ifn0uwH"
      }
    },
    {
      "cell_type": "code",
      "source": [
        "class Car(Vehicle):\n",
        "    def seating_capacity(self, capacity):\n",
        "        return f\"{self.name_of_vehicle} has a seating capacity of {capacity}.\"\n",
        "\n",
        "# Example usage:\n",
        "car = Car(\"Sedan\", 180, 25)\n",
        "print(car.seating_capacity(5))"
      ],
      "metadata": {
        "colab": {
          "base_uri": "https://localhost:8080/"
        },
        "id": "je1HbZHV15VQ",
        "outputId": "5f66f0df-84bb-41d0-c715-e2440f5f0510"
      },
      "execution_count": 3,
      "outputs": [
        {
          "output_type": "stream",
          "name": "stdout",
          "text": [
            "Sedan has a seating capacity of 5.\n"
          ]
        }
      ]
    },
    {
      "cell_type": "markdown",
      "source": [
        "# Q3. What is multiple inheritance? Write a python code to demonstrate multiple inheritance.\n",
        "Ans.: Multiple inheritance is a feature in object-oriented programming where a class can inherit attributes and methods from more than one parent class."
      ],
      "metadata": {
        "id": "xOipk6Rs1eR-"
      }
    },
    {
      "cell_type": "code",
      "source": [
        "class A:\n",
        "    def method_A(self):\n",
        "        print(\"Method A from class A\")\n",
        "\n",
        "class B:\n",
        "    def method_B(self):\n",
        "        print(\"Method B from class B\")\n",
        "\n",
        "class C(A, B):\n",
        "    def method_C(self):\n",
        "        print(\"Method C from class C\")\n",
        "\n",
        "# Example usage:\n",
        "obj = C()\n",
        "obj.method_A()\n",
        "obj.method_B()\n",
        "obj.method_C()"
      ],
      "metadata": {
        "colab": {
          "base_uri": "https://localhost:8080/"
        },
        "id": "HUlgDkL012AY",
        "outputId": "66454221-478f-46e7-f996-ea190233c7fa"
      },
      "execution_count": 4,
      "outputs": [
        {
          "output_type": "stream",
          "name": "stdout",
          "text": [
            "Method A from class A\n",
            "Method B from class B\n",
            "Method C from class C\n"
          ]
        }
      ]
    },
    {
      "cell_type": "markdown",
      "source": [
        "# Q4. What are getter and setter in python? Create a class and create a getter and a setter method in this class.\n",
        "Ans.: Getter and setter methods are used to access and modify the private attributes of a class."
      ],
      "metadata": {
        "id": "tRjm_S8m1jbb"
      }
    },
    {
      "cell_type": "code",
      "source": [
        "class Example:\n",
        "    def __init__(self):\n",
        "        self._value = 0  # Private variable with a single underscore\n",
        "\n",
        "    # Getter method\n",
        "    def get_value(self):\n",
        "        return self._value\n",
        "\n",
        "    # Setter method\n",
        "    def set_value(self, new_value):\n",
        "        if new_value > 0:\n",
        "            self._value = new_value\n",
        "\n",
        "# Example usage:\n",
        "obj = Example()\n",
        "print(obj.get_value())  # Output: 0\n",
        "obj.set_value(42)\n",
        "print(obj.get_value())  # Output: 42"
      ],
      "metadata": {
        "colab": {
          "base_uri": "https://localhost:8080/"
        },
        "id": "lga3ZVn113Eu",
        "outputId": "6358fc8a-19a9-4abb-a6f0-a898b551c683"
      },
      "execution_count": 5,
      "outputs": [
        {
          "output_type": "stream",
          "name": "stdout",
          "text": [
            "0\n",
            "42\n"
          ]
        }
      ]
    },
    {
      "cell_type": "markdown",
      "source": [
        "# Q5.What is method overriding in python? Write a python code to demonstrate method overriding.\n",
        "Ans.: Method overriding occurs when a child class provides a specific implementation for a method that is already defined in its parent class."
      ],
      "metadata": {
        "id": "dFhCgQsE1tzm"
      }
    },
    {
      "cell_type": "code",
      "source": [
        "class Parent:\n",
        "    def show(self):\n",
        "        print(\"Method from Parent class\")\n",
        "\n",
        "class Child(Parent):\n",
        "    def show(self):\n",
        "        print(\"Method from Child class\")\n",
        "\n",
        "# Example usage:\n",
        "obj = Child()\n",
        "obj.show()  # Output: Method from Child class"
      ],
      "metadata": {
        "colab": {
          "base_uri": "https://localhost:8080/"
        },
        "id": "m4XnRqjt1318",
        "outputId": "9e6da348-b089-4609-b49e-644a1936a2c0"
      },
      "execution_count": 6,
      "outputs": [
        {
          "output_type": "stream",
          "name": "stdout",
          "text": [
            "Method from Child class\n"
          ]
        }
      ]
    }
  ]
}